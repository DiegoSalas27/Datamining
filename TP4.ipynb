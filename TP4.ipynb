{
 "cells": [
  {
   "cell_type": "code",
   "execution_count": 12,
   "metadata": {},
   "outputs": [],
   "source": [
    "import pandas\n",
    "from pandas.plotting import scatter_matrix \n",
    "import matplotlib.pyplot as plt\n",
    "from sklearn import model_selection\n",
    "from sklearn.metrics import classification_report\n",
    "from sklearn.metrics import confusion_matrix\n",
    "from sklearn.metrics import accuracy_score\n",
    "from sklearn.linear_model import LogisticRegression\n",
    "from sklearn.tree import DecisionTreeClassifier\n",
    "from sklearn.neighbors import KNeighborsClassifier\n",
    "from sklearn.discriminant_analysis import LinearDiscriminantAnalysis\n",
    "from sklearn.naive_bayes import GaussianNB\n",
    "from sklearn.svm import SVC"
   ]
  },
  {
   "cell_type": "code",
   "execution_count": 13,
   "metadata": {},
   "outputs": [],
   "source": [
    "url = \"https://archive.ics.uci.edu/ml/machine-learning-databases/iris/iris.data\"\n",
    "names = ['sepal-length','sepal-width','petal-length','peta-width','class']\n",
    "dataset = pandas.read_csv(url,names=names)"
   ]
  },
  {
   "cell_type": "code",
   "execution_count": 14,
   "metadata": {},
   "outputs": [
    {
     "name": "stdout",
     "output_type": "stream",
     "text": [
      "     sepal-length  sepal-width  petal-length  peta-width           class\n",
      "0             5.1          3.5           1.4         0.2     Iris-setosa\n",
      "1             4.9          3.0           1.4         0.2     Iris-setosa\n",
      "2             4.7          3.2           1.3         0.2     Iris-setosa\n",
      "3             4.6          3.1           1.5         0.2     Iris-setosa\n",
      "4             5.0          3.6           1.4         0.2     Iris-setosa\n",
      "..            ...          ...           ...         ...             ...\n",
      "145           6.7          3.0           5.2         2.3  Iris-virginica\n",
      "146           6.3          2.5           5.0         1.9  Iris-virginica\n",
      "147           6.5          3.0           5.2         2.0  Iris-virginica\n",
      "148           6.2          3.4           5.4         2.3  Iris-virginica\n",
      "149           5.9          3.0           5.1         1.8  Iris-virginica\n",
      "\n",
      "[150 rows x 5 columns]\n",
      "(150, 5)\n"
     ]
    }
   ],
   "source": [
    "print(dataset)\n",
    "print(dataset.shape)"
   ]
  },
  {
   "cell_type": "code",
   "execution_count": 15,
   "metadata": {},
   "outputs": [
    {
     "name": "stdout",
     "output_type": "stream",
     "text": [
      "    sepal-length  sepal-width  petal-length  peta-width        class\n",
      "0            5.1          3.5           1.4         0.2  Iris-setosa\n",
      "1            4.9          3.0           1.4         0.2  Iris-setosa\n",
      "2            4.7          3.2           1.3         0.2  Iris-setosa\n",
      "3            4.6          3.1           1.5         0.2  Iris-setosa\n",
      "4            5.0          3.6           1.4         0.2  Iris-setosa\n",
      "5            5.4          3.9           1.7         0.4  Iris-setosa\n",
      "6            4.6          3.4           1.4         0.3  Iris-setosa\n",
      "7            5.0          3.4           1.5         0.2  Iris-setosa\n",
      "8            4.4          2.9           1.4         0.2  Iris-setosa\n",
      "9            4.9          3.1           1.5         0.1  Iris-setosa\n",
      "10           5.4          3.7           1.5         0.2  Iris-setosa\n",
      "11           4.8          3.4           1.6         0.2  Iris-setosa\n",
      "12           4.8          3.0           1.4         0.1  Iris-setosa\n",
      "13           4.3          3.0           1.1         0.1  Iris-setosa\n",
      "14           5.8          4.0           1.2         0.2  Iris-setosa\n",
      "15           5.7          4.4           1.5         0.4  Iris-setosa\n",
      "16           5.4          3.9           1.3         0.4  Iris-setosa\n",
      "17           5.1          3.5           1.4         0.3  Iris-setosa\n",
      "18           5.7          3.8           1.7         0.3  Iris-setosa\n",
      "19           5.1          3.8           1.5         0.3  Iris-setosa\n"
     ]
    }
   ],
   "source": [
    "print(dataset.head(20))"
   ]
  },
  {
   "cell_type": "code",
   "execution_count": 16,
   "metadata": {},
   "outputs": [
    {
     "name": "stdout",
     "output_type": "stream",
     "text": [
      "       sepal-length  sepal-width  petal-length  peta-width\n",
      "count    150.000000   150.000000    150.000000  150.000000\n",
      "mean       5.843333     3.054000      3.758667    1.198667\n",
      "std        0.828066     0.433594      1.764420    0.763161\n",
      "min        4.300000     2.000000      1.000000    0.100000\n",
      "25%        5.100000     2.800000      1.600000    0.300000\n",
      "50%        5.800000     3.000000      4.350000    1.300000\n",
      "75%        6.400000     3.300000      5.100000    1.800000\n",
      "max        7.900000     4.400000      6.900000    2.500000\n"
     ]
    }
   ],
   "source": [
    "print(dataset.describe())"
   ]
  },
  {
   "cell_type": "code",
   "execution_count": 20,
   "metadata": {},
   "outputs": [
    {
     "data": {
      "image/png": "[encoded data removed]",
      "text/plain": [
       "<Figure size 432x288 with 4 Axes>"
      ]
     },
     "metadata": {},
     "output_type": "display_data"
    }
   ],
   "source": [
    "dataset.plot(kind='box', subplots=True, layout=(2,2), sharex=False, sharey=False)\n",
    "plt.show()"
   ]
  },
  {
   "cell_type": "code",
   "execution_count": 21,
   "metadata": {},
   "outputs": [
    {
     "data": {
      "text/plain": [
       "array([[<matplotlib.axes._subplots.AxesSubplot object at 0x000001EF105265F8>,\n",
       "        <matplotlib.axes._subplots.AxesSubplot object at 0x000001EF10148908>],\n",
       "       [<matplotlib.axes._subplots.AxesSubplot object at 0x000001EF1033D208>,\n",
       "        <matplotlib.axes._subplots.AxesSubplot object at 0x000001EF103EE5C0>]],\n",
       "      dtype=object)"
      ]
     },
     "execution_count": 21,
     "metadata": {},
     "output_type": "execute_result"
    },
    {
     "data": {
      "image/png": "[encoded data removed]",
      "text/plain": [
       "<Figure size 432x288 with 4 Axes>"
      ]
     },
     "metadata": {},
     "output_type": "display_data"
    }
   ],
   "source": [
    "dataset.hist()"
   ]
  },
  {
   "cell_type": "code",
   "execution_count": null,
   "metadata": {},
   "outputs": [],
   "source": []
  }
 ],
 "metadata": {
  "kernelspec": {
   "display_name": "Python 3",
   "language": "python",
   "name": "python3"
  },
  "language_info": {
   "codemirror_mode": {
    "name": "ipython",
    "version": 3
   },
   "file_extension": ".py",
   "mimetype": "text/x-python",
   "name": "python",
   "nbconvert_exporter": "python",
   "pygments_lexer": "ipython3",
   "version": "3.6.5"
  }
 },
 "nbformat": 4,
 "nbformat_minor": 2
}
