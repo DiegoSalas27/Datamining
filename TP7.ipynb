{
 "cells": [
  {
   "cell_type": "code",
   "execution_count": 3,
   "metadata": {},
   "outputs": [],
   "source": [
    "#Python soporta a JSON de forma nativa!\n",
    "\n",
    "\n",
    "#Python viene con un paquete incorporado llamado json para codificar y decodificar datos JSON. Solo tira a este pequeño en la parte superior de tu archivo:\n",
    "import json"
   ]
  },
  {
   "cell_type": "code",
   "execution_count": 11,
   "metadata": {},
   "outputs": [],
   "source": [
    "#Serialización JSON\n",
    "\n",
    "\n",
    "#¿Qué sucede después de que una computadora procesa mucha información? Necesita tomar un volcado de datos. \n",
    "#En consecuencia, la biblioteca json expone el método dump () para escribir datos en archivos. También hay un método dumps () (que se pronuncia como \"dump-s\") \n",
    "#para escribir en una cadena Python. Los objetos Python simples se traducen a JSON de acuerdo con una conversión bastante intuitiva.\n",
    "#Python JSON dict object list,tuple array str string int,long,float number True true False false None null\n",
    "\n",
    "#Un ejemplo simple de serializació\n",
    "\n",
    "#Imagina que estás trabajando con un objeto Python en la memoria que se parece a algo como esto:\n",
    "\n",
    "data = {\n",
    "    \"president\": {\n",
    "        \"name\": \"Zaphod Beeblebrox\",\n",
    "        \"species\": \"Betelgeusian\"\n",
    "    }\n",
    "}\n",
    "\n",
    "with open(\"data_file.json\", \"w\") as write_file:\n",
    "    json.dump(data, write_file)\n",
    "    \n",
    "#Tenga en cuenta que dump () toma dos argumentos posicionales: (1) el objeto de datos que se va a serializar, y (2) el objeto similar a un archivo en el \n",
    "#que se escribirán los bytes. O, si estuviera tan inclinado a continuar usando estos datos JSON serializados en su programa, podría escribirlos en un \n",
    "#objeto Str nativo de Python.\n",
    "\n",
    "json_string = json.dumps(data)\n",
    "#Observe que el objeto tipo archivo está ausente ya que en realidad no está escribiendo en el disco. Aparte de eso, dumps () es como dump ().\n"
   ]
  },
  {
   "cell_type": "code",
   "execution_count": 13,
   "metadata": {},
   "outputs": [
    {
     "data": {
      "text/plain": [
       "'{\\n    \"president\": {\\n        \"name\": \"Zaphod Beeblebrox\",\\n        \"species\": \"Betelgeusian\"\\n    }\\n}'"
      ]
     },
     "execution_count": 13,
     "metadata": {},
     "output_type": "execute_result"
    }
   ],
   "source": [
    "#Algunos argumentos útiles de palabras clave\n",
    "\n",
    "\n",
    "#Recuerde, JSON está pensado para que los humanos lo puedan leer fácilmente, pero la sintaxis legible no es suficiente si está todo comprimido. \n",
    "#Además, es probable que tenga un estilo de programación diferente al mío, y puede que le resulte más fácil leer el código cuando está formateado a su gusto.\n",
    "#La primera opción que la mayoría de la gente quiere cambiar es el espacio en blanco. Puede usar el argumento de palabra clave de sangría para especificar \n",
    "#el tamaño de sangría para las estructuras anidadas. Compruebe la diferencia por sí mismo utilizando los datos, que definimos anteriormente, y ejecutando \n",
    "#los siguientes comandos en una consola:\n",
    "\n",
    "json.dumps(data)\n",
    "json.dumps(data, indent=4)\n",
    "\n",
    "#Otra opción de formato es el argumento de la palabra clave separadores. De forma predeterminada, esta es una tupla de 2 de las cadenas de separación (\",\", \":\"),\n",
    "#pero una alternativa común para JSON compacto es (\",\", \":\"). Mire nuevamente el JSON de muestra para ver dónde entran en juego estos separadores."
   ]
  },
  {
   "cell_type": "code",
   "execution_count": 14,
   "metadata": {},
   "outputs": [
    {
     "data": {
      "text/plain": [
       "False"
      ]
     },
     "execution_count": 14,
     "metadata": {},
     "output_type": "execute_result"
    }
   ],
   "source": [
    "#Deserialización de JSON\n",
    "\n",
    "\n",
    "#Genial, parece que te has capturado a ti mismo un salvaje JSON! Ahora es el momento de ponerlo en forma. En la biblioteca json, encontrará load () y load () \n",
    "#para convertir los datos codificados JSON en objetos de Python. Al igual que la serialización, hay una tabla de conversión simple para la deserialización, \n",
    "#aunque probablemente ya pueda adivinar cómo se ve.JSON Python object dict array list string str number(int) int number(real) float true True false False null \n",
    "#NoneTécnicamente, esta conversión no es una inversa perfecta a la tabla de serialización. Básicamente, eso significa que si codificas un objeto ahora y \n",
    "#luego lo descodificas más tarde, es posible que no puedas recuperar exactamente el mismo objeto. Me imagino que es un poco como la teletransportación: \n",
    "#rompe mis moléculas aquí y vuelve a juntarlas allí. ¿Sigo siendo la misma persona?\n",
    "\n",
    "blackjack_hand = (8, \"Q\")\n",
    "encoded_hand = json.dumps(blackjack_hand)\n",
    "decoded_hand = json.loads(encoded_hand)\n",
    "\n",
    "blackjack_hand == decoded_hand"
   ]
  },
  {
   "cell_type": "code",
   "execution_count": 15,
   "metadata": {},
   "outputs": [
    {
     "data": {
      "text/plain": [
       "tuple"
      ]
     },
     "execution_count": 15,
     "metadata": {},
     "output_type": "execute_result"
    }
   ],
   "source": [
    "type(blackjack_hand)"
   ]
  },
  {
   "cell_type": "code",
   "execution_count": 16,
   "metadata": {},
   "outputs": [
    {
     "data": {
      "text/plain": [
       "list"
      ]
     },
     "execution_count": 16,
     "metadata": {},
     "output_type": "execute_result"
    }
   ],
   "source": [
    "type(decoded_hand)"
   ]
  },
  {
   "cell_type": "code",
   "execution_count": 17,
   "metadata": {},
   "outputs": [
    {
     "data": {
      "text/plain": [
       "True"
      ]
     },
     "execution_count": 17,
     "metadata": {},
     "output_type": "execute_result"
    }
   ],
   "source": [
    "blackjack_hand == tuple(decoded_hand)"
   ]
  },
  {
   "cell_type": "code",
   "execution_count": 20,
   "metadata": {},
   "outputs": [
    {
     "data": {
      "text/plain": [
       "{'president': {'name': 'Zaphod Beeblebrox', 'species': 'Betelgeusian'}}"
      ]
     },
     "execution_count": 20,
     "metadata": {},
     "output_type": "execute_result"
    }
   ],
   "source": [
    "#Un ejemplo simple de deserialización\n",
    "\n",
    "\n",
    "#Esta vez, imagina que tienes algunos datos almacenados en el disco que te gustaría manipular en la memoria. \n",
    "#Seguirás usando el administrador de contexto, pero esta vez abrirás el archivo data_file.json existente en modo de lectura.\n",
    "\n",
    "with open(\"data_file.json\", \"r\") as read_file:\n",
    "    data = json.load(read_file)\n",
    "data"
   ]
  },
  {
   "cell_type": "code",
   "execution_count": 21,
   "metadata": {},
   "outputs": [],
   "source": [
    "#Las cosas son bastante sencillas aquí, pero tenga en cuenta que el resultado de este método podría devolver cualquiera de los tipos de datos permitidos \n",
    "#de la tabla de conversión. Esto solo es importante si está cargando datos que no ha visto antes. En la mayoría de los casos, el objeto raíz será un dict \n",
    "#o una lista. Si ha extraído datos JSON de otro programa o si de otra manera ha obtenido una cadena de datos con formato JSON en Python, puede deserializarlos \n",
    "#fácilmente con cargas (), que naturalmente se cargan desde una cadena:\n",
    "\n",
    "json_string = \"\"\"\n",
    "{\n",
    "    \"researcher\": {\n",
    "        \"name\": \"Ford Prefect\",\n",
    "        \"species\": \"Betelgeusian\",\n",
    "        \"relatives\": [\n",
    "            {\n",
    "                \"name\": \"Zaphod Beeblebrox\",\n",
    "                \"species\": \"Betelgeusian\"\n",
    "            }\n",
    "        ]\n",
    "    }\n",
    "}\n",
    "\"\"\"\n",
    "data = json.loads(json_string)"
   ]
  },
  {
   "cell_type": "code",
   "execution_count": 22,
   "metadata": {},
   "outputs": [],
   "source": [
    "#Un ejemplo del mundo real\n",
    "\n",
    "\n",
    "#Para su ejemplo introductorio, usará JSONPlaceholder, una gran fuente de datos falsos de JSON para fines de práctica. \n",
    "#Primero crea un archivo de script llamado scratch.py, o lo que quieras. Realmente no puedo detenerte. \n",
    "#Deberá realizar una solicitud de API al servicio JSONPlaceholder, así que solo use el paquete de solicitudes para hacer el trabajo pesado. \n",
    "#Agregue estas importaciones en la parte superior de su archivo:\n",
    "\n",
    "import json\n",
    "import requests"
   ]
  },
  {
   "cell_type": "code",
   "execution_count": 25,
   "metadata": {},
   "outputs": [],
   "source": [
    "#Continúe y realice una solicitud a la API JSONPlaceholder para el punto final / todos. Si no está familiarizado con las solicitudes, \n",
    "#en realidad hay un método json () práctico que hará todo el trabajo por usted, pero puede practicar el uso de la biblioteca json para deserializar \n",
    "#el atributo de texto del objeto de respuesta. Debería verse algo como esto:\n",
    "\n",
    "response = requests.get(\"https://jsonplaceholder.typicode.com/todos\")\n",
    "todos = json.loads(response.text)"
   ]
  },
  {
   "cell_type": "code",
   "execution_count": 26,
   "metadata": {},
   "outputs": [
    {
     "data": {
      "text/plain": [
       "True"
      ]
     },
     "execution_count": 26,
     "metadata": {},
     "output_type": "execute_result"
    }
   ],
   "source": [
    "#Bien, ejecute el archivo en modo interactivo y pruébelo usted mismo. Mientras estás en ello, comprueba el tipo de todos.\n",
    "todos == response.json()"
   ]
  },
  {
   "cell_type": "code",
   "execution_count": 27,
   "metadata": {},
   "outputs": [
    {
     "data": {
      "text/plain": [
       "list"
      ]
     },
     "execution_count": 27,
     "metadata": {},
     "output_type": "execute_result"
    }
   ],
   "source": [
    "type(todos)"
   ]
  },
  {
   "cell_type": "code",
   "execution_count": 28,
   "metadata": {},
   "outputs": [
    {
     "data": {
      "text/plain": [
       "list"
      ]
     },
     "execution_count": 28,
     "metadata": {},
     "output_type": "execute_result"
    }
   ],
   "source": [
    "type(response.json())"
   ]
  },
  {
   "cell_type": "code",
   "execution_count": 29,
   "metadata": {},
   "outputs": [
    {
     "data": {
      "text/plain": [
       "[{'userId': 1, 'id': 1, 'title': 'delectus aut autem', 'completed': False},\n",
       " {'userId': 1,\n",
       "  'id': 2,\n",
       "  'title': 'quis ut nam facilis et officia qui',\n",
       "  'completed': False},\n",
       " {'userId': 1, 'id': 3, 'title': 'fugiat veniam minus', 'completed': False},\n",
       " {'userId': 1, 'id': 4, 'title': 'et porro tempora', 'completed': True},\n",
       " {'userId': 1,\n",
       "  'id': 5,\n",
       "  'title': 'laboriosam mollitia et enim quasi adipisci quia provident illum',\n",
       "  'completed': False},\n",
       " {'userId': 1,\n",
       "  'id': 6,\n",
       "  'title': 'qui ullam ratione quibusdam voluptatem quia omnis',\n",
       "  'completed': False},\n",
       " {'userId': 1,\n",
       "  'id': 7,\n",
       "  'title': 'illo expedita consequatur quia in',\n",
       "  'completed': False},\n",
       " {'userId': 1,\n",
       "  'id': 8,\n",
       "  'title': 'quo adipisci enim quam ut ab',\n",
       "  'completed': True},\n",
       " {'userId': 1,\n",
       "  'id': 9,\n",
       "  'title': 'molestiae perspiciatis ipsa',\n",
       "  'completed': False},\n",
       " {'userId': 1,\n",
       "  'id': 10,\n",
       "  'title': 'illo est ratione doloremque quia maiores aut',\n",
       "  'completed': True}]"
      ]
     },
     "execution_count": 29,
     "metadata": {},
     "output_type": "execute_result"
    }
   ],
   "source": [
    "todos[:10]"
   ]
  },
  {
   "cell_type": "code",
   "execution_count": 31,
   "metadata": {},
   "outputs": [],
   "source": [
    "#Puede ver la estructura de los datos visitando el punto final en un navegador, pero aquí hay un ejemplo de lo que debe \n",
    "#hacer:{ \"userId\": 1, \"id\": 1, \"title\": \"delectus aut autem\", \"completed\": false }Hay varios usuarios, \n",
    "#cada uno con un ID de usuario único, y cada tarea tiene una propiedad completada booleana. \n",
    "#¿Puedes determinar qué usuarios han completado la mayoría de las tareas?\n",
    "\n",
    "#Mapa de userId a numero de TODOs completos para ese usuario\n",
    "todos_by_user = {}\n",
    "\n",
    "#Incrementar el conteo comleto de TODO para cada usuario.\n",
    "for todo in todos:\n",
    "    if todo[\"completed\"]:\n",
    "        try:\n",
    "            #Incrementa la cuenta del usuario existente\n",
    "            todos_by_user[todo[\"userId\"]] += 1\n",
    "        except KeyError:\n",
    "            #Este usuario no ha sido visto. Poner su cuenta en 1.\n",
    "            todos_by_user[todo[\"userId\"]] = 1\n",
    "            \n",
    "# cree una lista ordenada de (userId, num_complete) pares.\n",
    "top_users = sorted(todos_by_user.items(), key=lambda x: x[1], reverse=True)\n",
    "\n",
    "#Obtener el numero maximo de TODO completos.\n",
    "max_complete = top_users[0][1]\n",
    "\n",
    "# cree una lista de todos los usuarios que hayan completado el numero maximo de TODO.\n",
    "users= []\n",
    "for user, num_complete in top_users:\n",
    "    if num_complete < max_complete:\n",
    "        break\n",
    "    users.append(str(user))\n",
    "    \n",
    "max_users = \" and \".join(users)"
   ]
  },
  {
   "cell_type": "code",
   "execution_count": 33,
   "metadata": {},
   "outputs": [
    {
     "name": "stdout",
     "output_type": "stream",
     "text": [
      "users 5 and 10 completed 12 TODOs\n"
     ]
    }
   ],
   "source": [
    "#¡Ahora puedes manipular los datos JSON como un objeto normal de Python!\n",
    "s = \"s\" if len(users) > 1 else \"\"\n",
    "print(f\"user{s} {max_users} completed {max_complete} TODOs\")"
   ]
  },
  {
   "cell_type": "code",
   "execution_count": 34,
   "metadata": {},
   "outputs": [],
   "source": [
    "#Para su tarea final, creará un archivo JSON que contiene los TODO completados para cada uno de los usuarios que completaron el número máximo de TODO.\n",
    "#Todo lo que necesita hacer es filtrar todos y escribir la lista resultante en un archivo. En aras de la originalidad, puede llamar al archivo de salida \n",
    "#filter_data_file.json. Hay muchas maneras en que podría hacer esto, pero aquí hay una:\n",
    "\n",
    "## Defina una función para filtrar TODO completado TODOs de usuarios con max completado TODOS.\n",
    "def keep(todo):\n",
    "    is_complete = todo[\"completed\"]\n",
    "    has_max_count = str(todo[\"userId\"]) in users\n",
    "    return is_complete and has_max_count\n",
    "\n",
    "#escribir TODOs filtrados a archivo\n",
    "with open(\"filtered_data_file.json\", \"w\") as data_file:\n",
    "    filtered_todos = list(filter(keep, todos))\n",
    "    json.dump(filtered_todos, data_file, indent=2)"
   ]
  },
  {
   "cell_type": "code",
   "execution_count": null,
   "metadata": {},
   "outputs": [],
   "source": []
  }
 ],
 "metadata": {
  "kernelspec": {
   "display_name": "Python 3",
   "language": "python",
   "name": "python3"
  },
  "language_info": {
   "codemirror_mode": {
    "name": "ipython",
    "version": 3
   },
   "file_extension": ".py",
   "mimetype": "text/x-python",
   "name": "python",
   "nbconvert_exporter": "python",
   "pygments_lexer": "ipython3",
   "version": "3.6.5"
  }
 },
 "nbformat": 4,
 "nbformat_minor": 2
}
