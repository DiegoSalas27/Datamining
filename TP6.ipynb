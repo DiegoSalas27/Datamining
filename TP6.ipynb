{
 "cells": [
  {
   "cell_type": "code",
   "execution_count": 1,
   "metadata": {},
   "outputs": [
    {
     "name": "stdout",
     "output_type": "stream",
     "text": [
      "Requirement already satisfied (use --upgrade to upgrade): lxml in c:\\users\\dominic\\miniconda3\\lib\\site-packages\n"
     ]
    },
    {
     "name": "stderr",
     "output_type": "stream",
     "text": [
      "You are using pip version 18.1, however version 19.2.3 is available.\n",
      "You should consider upgrading via the 'python -m pip install --upgrade pip' command.\n"
     ]
    }
   ],
   "source": [
    "!pip install lxml"
   ]
  },
  {
   "cell_type": "code",
   "execution_count": 2,
   "metadata": {},
   "outputs": [],
   "source": [
    "from lxml import etree"
   ]
  },
  {
   "cell_type": "code",
   "execution_count": 41,
   "metadata": {},
   "outputs": [
    {
     "name": "stdout",
     "output_type": "stream",
     "text": [
      "root\n"
     ]
    }
   ],
   "source": [
    "#The element class\n",
    "\n",
    "\n",
    "\n",
    "#Un elemento es el objeto contenedor principal de la API de ElementTree. A la mayor\n",
    "#parte de la funcionalidad del árbol XML se accede a través de esta clase. Los elementos se crean fácilmente a través de la fábrica de elementos:\n",
    "\n",
    "root = etree.Element(\"root\")\n",
    "\n",
    "#Se accede al nombre de la etiqueta XML de los elementos a través de la propiedad de la etiqueta:\n",
    "print(root.tag)"
   ]
  },
  {
   "cell_type": "code",
   "execution_count": 42,
   "metadata": {},
   "outputs": [
    {
     "name": "stdout",
     "output_type": "stream",
     "text": [
      "b'<root>\\n  <child1/>\\n  <child2/>\\n  <child3/>\\n</root>\\n'\n"
     ]
    }
   ],
   "source": [
    "#Los elementos están organizados en una estructura de árbol XML. Para crear elementos secundarios y agregarlos a un elemento primario, puede usar el método append ():\n",
    "root.append(etree.Element(\"child1\"))\n",
    "\n",
    "#Sin embargo, esto es tan común que hay una forma más corta y mucho más eficiente de hacer esto: la fábrica de Subelement. \n",
    "#Acepta los mismos argumentos que la fábrica de elementos, pero adicionalmente requiere que el padre sea el primer argumento:\n",
    "\n",
    "child2 = etree.SubElement(root, \"child2\")\n",
    "child3 = etree.SubElement(root, \"child3\")\n",
    "\n",
    "#Para ver que esto es realmente XML, puede serializar el árbol que ha creado:\n",
    "print(etree.tostring(root, pretty_print=True))"
   ]
  },
  {
   "cell_type": "code",
   "execution_count": 43,
   "metadata": {},
   "outputs": [
    {
     "name": "stdout",
     "output_type": "stream",
     "text": [
      "child1\n",
      "3\n",
      "child1\n",
      "child2\n",
      "child3\n"
     ]
    }
   ],
   "source": [
    "#Elements are lists\n",
    "\n",
    "\n",
    "\n",
    "#Para que el acceso a estos subelementos sea sencillo y directo, los elementos imitan el comportamiento de las listas normales de Python lo más cerca posible\n",
    "child = root[0]\n",
    "print(child.tag)\n",
    "\n",
    "print(len(root))\n",
    "root.index(root[1])\n",
    "\n",
    "for child in root:\n",
    "    print(child.tag)"
   ]
  },
  {
   "cell_type": "code",
   "execution_count": 44,
   "metadata": {},
   "outputs": [],
   "source": [
    "root.insert(0, etree.Element(\"child-1\"))"
   ]
  },
  {
   "cell_type": "code",
   "execution_count": 45,
   "metadata": {},
   "outputs": [
    {
     "name": "stdout",
     "output_type": "stream",
     "text": [
      "child-1\n",
      "child3\n"
     ]
    }
   ],
   "source": [
    "start = root[:1]\n",
    "end = root[-1:]\n",
    "print(start[0].tag)\n",
    "print(end[0].tag)"
   ]
  },
  {
   "cell_type": "code",
   "execution_count": 46,
   "metadata": {},
   "outputs": [
    {
     "name": "stdout",
     "output_type": "stream",
     "text": [
      "The root element has children\n"
     ]
    },
    {
     "name": "stderr",
     "output_type": "stream",
     "text": [
      "C:\\Users\\DOMINIC\\Miniconda3\\lib\\site-packages\\ipykernel_launcher.py:2: FutureWarning: The behavior of this method will change in future versions. Use specific 'len(elem)' or 'elem is not None' test instead.\n",
      "  \n"
     ]
    }
   ],
   "source": [
    "# Antes de ElementTree 1.3 y lxml 2.0, también puede verificar el valor de verdad de un elemento para ver si tiene hijos, es decir, si la lista de hijos está vacía:\n",
    "if root:\n",
    "    print(\"The root element has children\")"
   ]
  },
  {
   "cell_type": "code",
   "execution_count": 47,
   "metadata": {},
   "outputs": [
    {
     "name": "stdout",
     "output_type": "stream",
     "text": [
      "True\n",
      "The root element has children\n"
     ]
    }
   ],
   "source": [
    "#Esto ya no se admite, ya que las personas tienden a esperar que un \"algo\" se evalúe como Verdadero y que los Elementos sean \"algo\", \n",
    "#ya sea que tengan hijos o no. Por lo tanto, a muchos usuarios les sorprende que cualquier \n",
    "#Elemento se evalúe como Falso en una declaración if como la anterior. En su lugar, use len (elemento), que es más explícito y menos propenso a errores.\n",
    "print(etree.iselement(child2))\n",
    "if len(root):\n",
    "    print(\"The root element has children\")"
   ]
  },
  {
   "cell_type": "code",
   "execution_count": 48,
   "metadata": {},
   "outputs": [
    {
     "name": "stdout",
     "output_type": "stream",
     "text": [
      "child-1\n",
      "child1\n",
      "child2\n",
      "child3\n",
      "child3\n",
      "child1\n",
      "child2\n"
     ]
    }
   ],
   "source": [
    "#Hay otro caso importante en el que el comportamiento de los Elementos en lxml (en 2.0 y versiones posteriores) \n",
    "#se desvía del de las listas y del de ElementTree original (antes de la versión 1.3 o Python 2.7 / 3.2):\n",
    "for child in root:\n",
    "    print(child.tag)\n",
    "    \n",
    "root[0] = root[-1]\n",
    "for child in root:\n",
    "    print(child.tag)"
   ]
  },
  {
   "cell_type": "code",
   "execution_count": 49,
   "metadata": {},
   "outputs": [
    {
     "data": {
      "text/plain": [
       "[3, 1, 2, 3]"
      ]
     },
     "execution_count": 49,
     "metadata": {},
     "output_type": "execute_result"
    }
   ],
   "source": [
    "#En este ejemplo, el último elemento se mueve a una posición diferente, en lugar de copiarse, es decir, se elimina automáticamente de su posición \n",
    "#anterior cuando se coloca en un lugar diferente. En las listas, los objetos pueden aparecer en varias posiciones al mismo tiempo, y la asignación \n",
    "#anterior simplemente copiaría la referencia del elemento en la primera posición, de modo que ambos contengan exactamente el mismo elemento:\n",
    "\n",
    "l = [0, 1, 2, 3]\n",
    "l[0] = l[-1]\n",
    "l"
   ]
  },
  {
   "cell_type": "code",
   "execution_count": 50,
   "metadata": {},
   "outputs": [
    {
     "data": {
      "text/plain": [
       "True"
      ]
     },
     "execution_count": 50,
     "metadata": {},
     "output_type": "execute_result"
    }
   ],
   "source": [
    "#Tenga en cuenta que en el ElementTree original, un solo objeto Element puede sentarse en cualquier número de lugares en cualquier número de árboles, \n",
    "#lo que permite la misma operación de copia que con las listas. El inconveniente obvio es que las modificaciones a dicho Elemento se aplicarán a todos \n",
    "#los lugares donde aparece en un árbol, lo cual puede o no estar destinado. La ventaja de esta diferencia es que un Elemento en lxml.etree \n",
    "#siempre tiene exactamente un padre, que se puede consultar a través del método getparent (). Esto no se admite en el ElementTree original.\n",
    "\n",
    "root is root[0].getparent()"
   ]
  },
  {
   "cell_type": "code",
   "execution_count": 51,
   "metadata": {},
   "outputs": [
    {
     "name": "stdout",
     "output_type": "stream",
     "text": [
      "child1\n",
      "['child3', 'child1', 'child2']\n"
     ]
    }
   ],
   "source": [
    "#Si desea copiar un elemento en una posición diferente en lxml.etree, considere crear una copia profunda \n",
    "#independiente utilizando el módulo de copia de la biblioteca estándar de Python:\n",
    "\n",
    "from copy import deepcopy\n",
    "\n",
    "element = etree.Element(\"neu\")\n",
    "element.append(deepcopy(root[1]))\n",
    "\n",
    "print(element[0].tag)\n",
    "print([c.tag for c in root])\n",
    "\n"
   ]
  },
  {
   "cell_type": "code",
   "execution_count": 54,
   "metadata": {},
   "outputs": [
    {
     "name": "stdout",
     "output_type": "stream",
     "text": [
      "b'<root><child3/><child1/><child2/></root>'\n"
     ]
    },
    {
     "data": {
      "text/plain": [
       "True"
      ]
     },
     "execution_count": 54,
     "metadata": {},
     "output_type": "execute_result"
    }
   ],
   "source": [
    "#Se accede a los hermanos (o vecinos) de un elemento como elementos siguientes y anteriores:\n",
    "print(etree.tostring(root))\n",
    "root[0] is root[1].getprevious()\n",
    "root[1] is root[0].getnext()"
   ]
  },
  {
   "cell_type": "code",
   "execution_count": 57,
   "metadata": {},
   "outputs": [],
   "source": [
    "#Elements contain text\n",
    "\n",
    "\n",
    "\n",
    "#Los elementos pueden contener texto:\n",
    "\n",
    "root = etree.Element(\"root\")\n",
    "root.text = \"TExt\""
   ]
  },
  {
   "cell_type": "code",
   "execution_count": 58,
   "metadata": {},
   "outputs": [
    {
     "data": {
      "text/plain": [
       "b'<root>TExt</root>'"
      ]
     },
     "execution_count": 58,
     "metadata": {},
     "output_type": "execute_result"
    }
   ],
   "source": [
    "etree.tostring(root)"
   ]
  },
  {
   "cell_type": "code",
   "execution_count": 83,
   "metadata": {},
   "outputs": [
    {
     "data": {
      "text/plain": [
       "b'<html><body>Cuerpito</body></html>'"
      ]
     },
     "execution_count": 83,
     "metadata": {},
     "output_type": "execute_result"
    }
   ],
   "source": [
    "#En muchos documentos XML (documentos centrados en datos), este es el único lugar donde se puede encontrar texto. \n",
    "#Está encapsulado por una etiqueta de hoja en la parte inferior de la jerarquía del árbol. Sin embargo, si se usa XML para documentos de texto etiquetados \n",
    "#como (X) HTML, el texto también puede aparecer entre diferentes elementos, justo en el centro del árbol:Hello\n",
    "#World Aquí, la etiqueta está rodeada de texto. Esto a menudo se conoce como XML de estilo de documento o contenido mixto. \n",
    "#Los elementos soportan esto a través de su propiedad cola. Contiene el texto que sigue directamente al elemento, hasta el siguiente elemento en el árbol XML:\n",
    "\n",
    "html = etree.Element(\"html\")\n",
    "body = etree.SubElement(html, \"body\")\n",
    "body.text=\"Cuerpito\"\n",
    "\n",
    "etree.tostring(html)"
   ]
  },
  {
   "cell_type": "code",
   "execution_count": 84,
   "metadata": {},
   "outputs": [
    {
     "data": {
      "text/plain": [
       "b'<html><body>Cuerpito<br/></body></html>'"
      ]
     },
     "execution_count": 84,
     "metadata": {},
     "output_type": "execute_result"
    }
   ],
   "source": [
    "br = etree.SubElement(body, \"br\")\n",
    "etree.tostring(html)"
   ]
  },
  {
   "cell_type": "code",
   "execution_count": 85,
   "metadata": {},
   "outputs": [
    {
     "data": {
      "text/plain": [
       "b'<html><body>Cuerpito<br/>TAIl</body></html>'"
      ]
     },
     "execution_count": 85,
     "metadata": {},
     "output_type": "execute_result"
    }
   ],
   "source": [
    "br.tail = \"TAIl\"\n",
    "etree.tostring(html)"
   ]
  },
  {
   "cell_type": "code",
   "execution_count": 86,
   "metadata": {},
   "outputs": [
    {
     "data": {
      "text/plain": [
       "b'<br/>TAIl'"
      ]
     },
     "execution_count": 86,
     "metadata": {},
     "output_type": "execute_result"
    }
   ],
   "source": [
    "#Las dos propiedades .text y .tail son suficientes para representar cualquier contenido de texto en un documento XML. \n",
    "#De esta manera, la API de ElementTree no requiere ningún nodo de texto especial además de la clase Element, que tiende a \n",
    "#interferir con bastante frecuencia (como es posible que se sepa de las API de DOM clásicas). Sin embargo, hay casos en que \n",
    "#el texto de la cola también se interpone. Por ejemplo, cuando serializa un elemento desde dentro del árbol, no siempre desea \n",
    "#que el texto de la cola aparezca en el resultado (aunque aún así querrá el texto de la cola de sus hijos). \n",
    "#Para este propósito, la función tostring () acepta el argumento de palabra clave with_tail:\n",
    "\n",
    "etree.tostring(br)"
   ]
  },
  {
   "cell_type": "code",
   "execution_count": 87,
   "metadata": {},
   "outputs": [
    {
     "data": {
      "text/plain": [
       "b'<br/>'"
      ]
     },
     "execution_count": 87,
     "metadata": {},
     "output_type": "execute_result"
    }
   ],
   "source": [
    "etree.tostring(br, with_tail=False)"
   ]
  },
  {
   "cell_type": "code",
   "execution_count": 88,
   "metadata": {},
   "outputs": [
    {
     "data": {
      "text/plain": [
       "b'<html><body>Cuerpito<br/>TAIl</body><pete>petardo</pete></html>'"
      ]
     },
     "execution_count": 88,
     "metadata": {},
     "output_type": "execute_result"
    }
   ],
   "source": [
    "pete = etree.SubElement(html, \"pete\")\n",
    "pete.text = \"petardo\"\n",
    "etree.tostring(html)"
   ]
  },
  {
   "cell_type": "code",
   "execution_count": 89,
   "metadata": {},
   "outputs": [
    {
     "data": {
      "text/plain": [
       "b'CuerpitoTAIlpetardo'"
      ]
     },
     "execution_count": 89,
     "metadata": {},
     "output_type": "execute_result"
    }
   ],
   "source": [
    "#If you want to read only the text, i.e. without any intermediate tags, you have to recursively concatenate all text Si desea leer solo el texto, \n",
    "#es decir, sin etiquetas intermedias, tiene que concatenar recursivamente todos los atributos de texto y cola en el orden correcto. Nuevamente, \n",
    "#la función tostring () viene al rescate, esta vez usando la palabra clave del método:\n",
    "\n",
    "etree.tostring(html, method=\"text\")"
   ]
  },
  {
   "cell_type": "code",
   "execution_count": 90,
   "metadata": {},
   "outputs": [
    {
     "name": "stdout",
     "output_type": "stream",
     "text": [
      "CuerpitoTAIlpetardo\n"
     ]
    }
   ],
   "source": [
    "#Using XPath to find text\n",
    "\n",
    "\n",
    "#Otra forma de extraer el contenido de texto de un árbol es XPath, que también le permite extraer los fragmentos de texto separados en una lista:\n",
    "print(html.xpath(\"string()\"))"
   ]
  },
  {
   "cell_type": "code",
   "execution_count": 91,
   "metadata": {},
   "outputs": [
    {
     "name": "stdout",
     "output_type": "stream",
     "text": [
      "['Cuerpito', 'TAIl', 'petardo']\n"
     ]
    }
   ],
   "source": [
    "print(html.xpath(\"//text()\"))"
   ]
  },
  {
   "cell_type": "code",
   "execution_count": 92,
   "metadata": {},
   "outputs": [
    {
     "name": "stdout",
     "output_type": "stream",
     "text": [
      "['Cuerpito', 'TAIl', 'petardo']\n"
     ]
    }
   ],
   "source": [
    "build_text_list = etree.XPath(\"//text()\")\n",
    "print(build_text_list(html))"
   ]
  },
  {
   "cell_type": "code",
   "execution_count": 93,
   "metadata": {},
   "outputs": [
    {
     "name": "stdout",
     "output_type": "stream",
     "text": [
      "Cuerpito\n"
     ]
    }
   ],
   "source": [
    "#Tenga en cuenta que un resultado de cadena devuelto por XPath es un objeto especial \"inteligente\" que conoce sus orígenes. \n",
    "#Puede preguntarle de dónde vino a través de su método getparent (), tal como lo haría con Elements:\n",
    "\n",
    "texts = build_text_list(html)\n",
    "print(texts[0])"
   ]
  },
  {
   "cell_type": "code",
   "execution_count": 94,
   "metadata": {},
   "outputs": [
    {
     "name": "stdout",
     "output_type": "stream",
     "text": [
      "TAIl\n"
     ]
    }
   ],
   "source": [
    "print(texts[1])"
   ]
  },
  {
   "cell_type": "code",
   "execution_count": 95,
   "metadata": {},
   "outputs": [
    {
     "name": "stdout",
     "output_type": "stream",
     "text": [
      "br\n"
     ]
    }
   ],
   "source": [
    "print(texts[1].getparent().tag)"
   ]
  },
  {
   "cell_type": "code",
   "execution_count": 96,
   "metadata": {},
   "outputs": [
    {
     "name": "stdout",
     "output_type": "stream",
     "text": [
      "True\n"
     ]
    }
   ],
   "source": [
    "print(texts[0].is_text)"
   ]
  },
  {
   "cell_type": "code",
   "execution_count": 97,
   "metadata": {},
   "outputs": [
    {
     "name": "stdout",
     "output_type": "stream",
     "text": [
      "True\n"
     ]
    }
   ],
   "source": [
    "print(texts[1].is_tail)"
   ]
  },
  {
   "cell_type": "code",
   "execution_count": 98,
   "metadata": {},
   "outputs": [
    {
     "name": "stdout",
     "output_type": "stream",
     "text": [
      "CuerpitoTAIlpetardo\n"
     ]
    }
   ],
   "source": [
    "#Si bien esto funciona con los resultados de la función text (), lxml no te dirá el origen de un valor de cadena que fue construido \n",
    "#por las funciones XPath string () o concat ():\n",
    "\n",
    "stringify = etree.XPath(\"string()\")\n",
    "print(stringify(html))"
   ]
  },
  {
   "cell_type": "code",
   "execution_count": 99,
   "metadata": {},
   "outputs": [
    {
     "name": "stdout",
     "output_type": "stream",
     "text": [
      "None\n"
     ]
    }
   ],
   "source": [
    "print(stringify(html).getparent())"
   ]
  },
  {
   "cell_type": "code",
   "execution_count": 109,
   "metadata": {},
   "outputs": [],
   "source": [
    "#Tree iteration\n",
    "\n",
    "\n",
    "#Para problemas como el anterior, donde desea recorrer recursivamente el árbol y hacer algo con sus elementos, \n",
    "#la iteración del árbol es una solución muy conveniente. Los elementos proporcionan un iterador de árbol para este propósito. \n",
    "#Produce elementos en el orden de los documentos, es decir, en el orden en que aparecerían sus etiquetas si serializase el árbol a XML:\n",
    "\n",
    "root = etree.Element(\"root\")\n",
    "etree.SubElement(root, \"child\").text = \"Child 1\"\n",
    "etree.SubElement(root, \"child\").text = \"Child 2\"\n",
    "etree.SubElement(root, \"another\").text = \"Child 3\""
   ]
  },
  {
   "cell_type": "code",
   "execution_count": 110,
   "metadata": {},
   "outputs": [
    {
     "name": "stdout",
     "output_type": "stream",
     "text": [
      "b'<root>\\n  <child>Child 1</child>\\n  <child>Child 2</child>\\n  <another>Child 3</another>\\n</root>\\n'\n"
     ]
    }
   ],
   "source": [
    "print(etree.tostring(root, pretty_print=True))"
   ]
  },
  {
   "cell_type": "code",
   "execution_count": 111,
   "metadata": {},
   "outputs": [
    {
     "name": "stdout",
     "output_type": "stream",
     "text": [
      "root - None\n",
      "child - Child 1\n",
      "child - Child 2\n",
      "another - Child 3\n"
     ]
    }
   ],
   "source": [
    "for element in root.iter():\n",
    "    print(\"%s - %s\" % (element.tag, element.text))"
   ]
  },
  {
   "cell_type": "code",
   "execution_count": 112,
   "metadata": {},
   "outputs": [
    {
     "name": "stdout",
     "output_type": "stream",
     "text": [
      "child - Child 1\n",
      "child - Child 2\n"
     ]
    }
   ],
   "source": [
    "#Si sabe que solo le interesa una sola etiqueta, puede pasar su nombre a iter () para que se filtre por usted. \n",
    "#A partir de lxml 3.0, también puede pasar más de una etiqueta para interceptar varias etiquetas durante la iteración.\n",
    "\n",
    "for element in root.iter(\"child\"):\n",
    "    print(\"%s - %s\" % (element.tag, element.text))"
   ]
  },
  {
   "cell_type": "code",
   "execution_count": 113,
   "metadata": {},
   "outputs": [
    {
     "name": "stdout",
     "output_type": "stream",
     "text": [
      "child - Child 1\n",
      "child - Child 2\n",
      "another - Child 3\n"
     ]
    }
   ],
   "source": [
    "for element in root.iter(\"child\", \"another\"):\n",
    "    print(\"%s - %s\" % (element.tag, element.text))"
   ]
  },
  {
   "cell_type": "code",
   "execution_count": 114,
   "metadata": {},
   "outputs": [
    {
     "name": "stdout",
     "output_type": "stream",
     "text": [
      "root - None\n",
      "child - Child 1\n",
      "child - Child 2\n",
      "another - Child 3\n",
      "SPECIAL: &#234; - &#234;\n",
      "SPECIAL: <!--some comment--> - some comment\n"
     ]
    }
   ],
   "source": [
    "#De forma predeterminada, la iteración genera todos los nodos del árbol, incluidas las instancias de ProcessingInstructions, Comments y Entity. \n",
    "#Si desea asegurarse de que solo se devuelvan objetos Element, puede pasar la fábrica de Elementos como parámetro de etiqueta:\n",
    "\n",
    "root.append(etree.Entity(\"#234\"))\n",
    "root.append(etree.Comment(\"some comment\"))\n",
    "\n",
    "for element in root.iter():\n",
    "    if isinstance(element.tag, str):  # or 'str' in Python 3\n",
    "        print(\"%s - %s\" % (element.tag, element.text))\n",
    "    else:\n",
    "        print(\"SPECIAL: %s - %s\" % (element, element.text))"
   ]
  },
  {
   "cell_type": "code",
   "execution_count": 115,
   "metadata": {},
   "outputs": [
    {
     "name": "stdout",
     "output_type": "stream",
     "text": [
      "root - None\n",
      "child - Child 1\n",
      "child - Child 2\n",
      "another - Child 3\n"
     ]
    }
   ],
   "source": [
    "for element in root.iter(tag=etree.Element):\n",
    "    print(\"%s - %s\" % (element.tag, element.text))"
   ]
  },
  {
   "cell_type": "code",
   "execution_count": 116,
   "metadata": {},
   "outputs": [
    {
     "name": "stdout",
     "output_type": "stream",
     "text": [
      "&#234;\n"
     ]
    }
   ],
   "source": [
    "for element in root.iter(tag=etree.Entity):\n",
    "    print(element.text)"
   ]
  },
  {
   "cell_type": "code",
   "execution_count": 117,
   "metadata": {},
   "outputs": [],
   "source": [
    "#Parsing from strings and files\n",
    "\n",
    "\n",
    "#lxml.etree supports parsing XML in a number of ways and from all important sources, namely strings, files, URLs (http/ftp) and file-like objects. \n",
    "#The main parse functions are fromstring() and parse(), both called with the source as first argument. By default, they use the standard parser, \n",
    "#but you can always pass a different parser as second argument.\n",
    "\n",
    "#the fromstring() function\n",
    "#The fromstring() function is the easiest way to parse a string:\n",
    "some_xml_data = \"<root>data</root>\"\n",
    "root = etree.fromstring(some_xml_data)"
   ]
  },
  {
   "cell_type": "code",
   "execution_count": 118,
   "metadata": {},
   "outputs": [
    {
     "name": "stdout",
     "output_type": "stream",
     "text": [
      "root\n"
     ]
    }
   ],
   "source": [
    "print(root.tag)"
   ]
  },
  {
   "cell_type": "code",
   "execution_count": 119,
   "metadata": {},
   "outputs": [
    {
     "name": "stdout",
     "output_type": "stream",
     "text": [
      "b'<root>data</root>'\n"
     ]
    }
   ],
   "source": [
    "print(etree.tostring(root))"
   ]
  },
  {
   "cell_type": "code",
   "execution_count": 121,
   "metadata": {},
   "outputs": [
    {
     "name": "stdout",
     "output_type": "stream",
     "text": [
      "root\n"
     ]
    },
    {
     "data": {
      "text/plain": [
       "b'<root>data</root>'"
      ]
     },
     "execution_count": 121,
     "metadata": {},
     "output_type": "execute_result"
    }
   ],
   "source": [
    "#the XML() function\n",
    "#La función XML () se comporta como la función fromstring (), pero se usa comúnmente para escribir literales XML directamente en la fuente:\n",
    "root = etree.XML(\"<root>data</root>\")\n",
    "print(root.tag)\n",
    "etree.tostring(root)"
   ]
  },
  {
   "cell_type": "code",
   "execution_count": 122,
   "metadata": {},
   "outputs": [
    {
     "data": {
      "text/plain": [
       "b'<html><body><p>data</p></body></html>'"
      ]
     },
     "execution_count": 122,
     "metadata": {},
     "output_type": "execute_result"
    }
   ],
   "source": [
    "#También hay una función correspondiente HTML () para los literales HTML.\n",
    "root = etree.HTML(\"<p>data</p>\")\n",
    "etree.tostring(root)"
   ]
  },
  {
   "cell_type": "code",
   "execution_count": null,
   "metadata": {},
   "outputs": [],
   "source": []
  }
 ],
 "metadata": {
  "kernelspec": {
   "display_name": "Python 3",
   "language": "python",
   "name": "python3"
  },
  "language_info": {
   "codemirror_mode": {
    "name": "ipython",
    "version": 3
   },
   "file_extension": ".py",
   "mimetype": "text/x-python",
   "name": "python",
   "nbconvert_exporter": "python",
   "pygments_lexer": "ipython3",
   "version": "3.6.5"
  }
 },
 "nbformat": 4,
 "nbformat_minor": 2
}
