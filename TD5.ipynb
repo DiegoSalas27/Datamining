{
 "cells": [
  {
   "cell_type": "code",
   "execution_count": 10,
   "metadata": {},
   "outputs": [],
   "source": [
    "from lxml import etree\n",
    "parser = etree.XMLParser(dtd_validation=True)\n",
    "tree = etree.parse(\"sample.xml\", parser)"
   ]
  },
  {
   "cell_type": "code",
   "execution_count": 25,
   "metadata": {},
   "outputs": [
    {
     "name": "stdout",
     "output_type": "stream",
     "text": [
      "True\n",
      "False\n",
      "<string>:1:0:ERROR:VALID:DTD_NOT_EMPTY: Element foo was declared EMPTY this one has content\n"
     ]
    }
   ],
   "source": [
    "from lxml import etree\n",
    "from io import StringIO\n",
    "\n",
    "dtd = etree.DTD(StringIO(\"\"\"<!ELEMENT foo EMPTY>\"\"\"))\n",
    "root = etree.XML(\"<foo/>\")\n",
    "print(dtd.validate(root))\n",
    "\n",
    "root = etree.XML(\"<foo>bar</foo>\")\n",
    "print(dtd.validate(root))\n",
    "print(dtd.error_log.filter_from_errors())"
   ]
  },
  {
   "cell_type": "code",
   "execution_count": null,
   "metadata": {},
   "outputs": [],
   "source": []
  }
 ],
 "metadata": {
  "kernelspec": {
   "display_name": "Python 3",
   "language": "python",
   "name": "python3"
  },
  "language_info": {
   "codemirror_mode": {
    "name": "ipython",
    "version": 3
   },
   "file_extension": ".py",
   "mimetype": "text/x-python",
   "name": "python",
   "nbconvert_exporter": "python",
   "pygments_lexer": "ipython3",
   "version": "3.6.5"
  }
 },
 "nbformat": 4,
 "nbformat_minor": 2
}
